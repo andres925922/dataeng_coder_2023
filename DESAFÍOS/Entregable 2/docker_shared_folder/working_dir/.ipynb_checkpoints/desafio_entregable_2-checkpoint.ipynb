{
 "cells": [
  {
   "cell_type": "code",
   "execution_count": null,
   "id": "25a0def9-6128-4135-87fd-6a7ce625ae05",
   "metadata": {
    "tags": []
   },
   "outputs": [],
   "source": [
    "# %pip install requests\n",
    "# %pip install pandas\n",
    "# %pip install urllib\n",
    "\n",
    "# %pip install python-dotenv\n",
    "# %pip install python-decouple\n",
    "\n",
    "# %pip install psycopg2-binary\n",
    "# %pip install sqlalchemy\n",
    "\n",
    "# %pip install pyspark[all]\n",
    "\n",
    "# libary included to solve not module pyspark found\n",
    "%pip install findspark"
   ]
  },
  {
   "cell_type": "code",
   "execution_count": 27,
   "id": "fcaf4a46-f41a-45a2-a523-69a3d486fab0",
   "metadata": {
    "tags": []
   },
   "outputs": [],
   "source": [
    "# imports\n",
    "import os\n",
    "import requests\n",
    "import urllib.parse\n",
    "\n",
    "# datetime para manejo de fechas\n",
    "from datetime import datetime\n",
    "\n",
    "# DB connector and libraries\n",
    "import psycopg2\n",
    "\n",
    "import findspark\n",
    "findspark.init()\n",
    "# Pyspark utils\n",
    "from pyspark.sql import SparkSession\n",
    "from pyspark.sql.functions import when, lit, col"
   ]
  },
  {
   "cell_type": "code",
   "execution_count": null,
   "id": "091ee936-4cfc-43d7-9202-fa34e5acf920",
   "metadata": {
    "tags": []
   },
   "outputs": [],
   "source": [
    "print(os.getcwd())"
   ]
  },
  {
   "cell_type": "markdown",
   "id": "19dccf48-d7a9-48aa-9816-6dd843840e56",
   "metadata": {},
   "source": [
    "## Iniciar la sesión de spark"
   ]
  },
  {
   "cell_type": "code",
   "execution_count": 14,
   "id": "8487e19e-d174-4c89-924c-4bb288a53202",
   "metadata": {
    "tags": []
   },
   "outputs": [],
   "source": [
    "class Spark_Session:\n",
    "    \n",
    "    _driver_path: str = \"\"\n",
    "    \n",
    "    def __init__(self):\n",
    "        \n",
    "#         Define environment variables\n",
    "        self._driver_path = os.getcwd() + \"/driver_jdbc/postgresql-42.2.27.jre7.jar\"\n",
    "\n",
    "        os.environ['PYSPARK_SUBMIT_ARGS'] = f'--driver-class-path {self._driver_path} --jars {self._driver_path} pyspark-shell'\n",
    "        os.environ['SPARK_CLASSPATH'] = self._driver_path\n",
    "        # Start spark session\n",
    "        self._start_spark_session()\n",
    "        \n",
    "    def _start_spark_session(self):\n",
    "        self._spark: SparkSession = SparkSession.builder \\\n",
    "            .master(\"local\") \\\n",
    "            .appName(\"Conexion entre Pyspark y Redshift\") \\\n",
    "            .config(\"spark.jars\", self._driver_path) \\\n",
    "            .config(\"spark.executor.extraClassPath\", self._driver_path) \\\n",
    "            .getOrCreate()\n",
    "    \n",
    "    def return_session(self):\n",
    "        \"\"\"\n",
    "        Función que retorna la sessión de spark creada al instanciar la clase.\n",
    "        \"\"\"\n",
    "        return self._spark\n",
    "            \n",
    "spark = Spark_Session()\n",
    "spark_session = spark.return_session()\n"
   ]
  },
  {
   "cell_type": "code",
   "execution_count": 7,
   "id": "78f6bd73-6559-4299-880e-3802c2c8d41f",
   "metadata": {
    "tags": []
   },
   "outputs": [],
   "source": [
    "def url_constructor(url: str, **kargs) -> str:\n",
    "\n",
    "    return f\"{url}?{urllib.parse.urlencode(kargs)}\""
   ]
  },
  {
   "cell_type": "markdown",
   "id": "27bb46ef-2de4-49cf-a6c5-911514e27521",
   "metadata": {},
   "source": [
    "## Obtenemos la información desde la url"
   ]
  },
  {
   "cell_type": "code",
   "execution_count": 29,
   "id": "28ed6785-22f4-4a82-895e-472fcde8e4a0",
   "metadata": {
    "tags": []
   },
   "outputs": [
    {
     "ename": "TypeError",
     "evalue": "'Column' object cannot be interpreted as an integer",
     "output_type": "error",
     "traceback": [
      "\u001b[0;31m---------------------------------------------------------------------------\u001b[0m",
      "\u001b[0;31mTypeError\u001b[0m                                 Traceback (most recent call last)",
      "Cell \u001b[0;32mIn[29], line 26\u001b[0m\n\u001b[1;32m     24\u001b[0m df \u001b[38;5;241m=\u001b[39m df\u001b[38;5;241m.\u001b[39mwithColumn(\u001b[38;5;124m\"\u001b[39m\u001b[38;5;124mAvg\u001b[39m\u001b[38;5;124m\"\u001b[39m, (df\u001b[38;5;241m.\u001b[39mHigh \u001b[38;5;241m+\u001b[39m df\u001b[38;5;241m.\u001b[39mLow)\u001b[38;5;241m/\u001b[39m\u001b[38;5;241m2\u001b[39m)\n\u001b[1;32m     25\u001b[0m \u001b[38;5;66;03m# Parseamos los datos fecha\u001b[39;00m\n\u001b[0;32m---> 26\u001b[0m df\u001b[38;5;241m.\u001b[39mselect(\u001b[43mdatetime\u001b[49m\u001b[38;5;241;43m.\u001b[39;49m\u001b[43mfromtimestamp\u001b[49m\u001b[43m(\u001b[49m\u001b[43mdf\u001b[49m\u001b[43m[\u001b[49m\u001b[38;5;124;43m\"\u001b[39;49m\u001b[38;5;124;43mOpen time\u001b[39;49m\u001b[38;5;124;43m\"\u001b[39;49m\u001b[43m]\u001b[49m\u001b[43m)\u001b[49m)\n\u001b[1;32m     27\u001b[0m df\u001b[38;5;241m.\u001b[39mselect(datetime\u001b[38;5;241m.\u001b[39mfromtimestamp(df[\u001b[38;5;124m\"\u001b[39m\u001b[38;5;124mClose time\u001b[39m\u001b[38;5;124m\"\u001b[39m]))\n",
      "\u001b[0;31mTypeError\u001b[0m: 'Column' object cannot be interpreted as an integer"
     ]
    }
   ],
   "source": [
    "# Vamos a consultar la información historica diaria que nos emite Binance sin limites inicio y fin\n",
    "\n",
    "data = requests.get( \\\n",
    "                url_constructor(\"https://api.binance.com/api/v3/klines\", symbol=\"BTCUSDT\", interval=\"1d\")\n",
    "        ).json()\n",
    "\n",
    "# Headers obtenidos desde la documentación de binance\n",
    "headers = (\"Open time\",\n",
    "           \"Open\",\n",
    "           \"High\", \n",
    "           \"Low\", \n",
    "           \"Close\", \n",
    "           \"Volume\", \n",
    "           \"Close time\", \n",
    "           \"Quote asset volume\", \n",
    "           \"Number of trades\",\n",
    "           \"Taker buy base asset volume\",\n",
    "           \"Taker buy quote asset volume\", \n",
    "           \"Ignore\")\n",
    "\n",
    "# Se crea el dataframe utilizando la session de spark generada anteriormente\n",
    "df = spark_session.createDataFrame(data, [x for x in headers])\n",
    "# Creamos la columna de promedio entre los valores high and close\n",
    "df = df.withColumn(\"Avg\", (df.High + df.Low)/2)\n",
    "# Parseamos los datos fecha\n",
    "df.select(datetime.fromtimestamp(df[\"Open time\"]))\n",
    "df.select(datetime.fromtimestamp(df[\"Close time\"]))"
   ]
  },
  {
   "cell_type": "code",
   "execution_count": 25,
   "id": "ef30062e-8083-4eb3-8b6b-f04f9a08502d",
   "metadata": {
    "tags": []
   },
   "outputs": [
    {
     "name": "stdout",
     "output_type": "stream",
     "text": [
      "root\n",
      " |-- Open time: long (nullable = true)\n",
      " |-- Open: string (nullable = true)\n",
      " |-- High: string (nullable = true)\n",
      " |-- Low: string (nullable = true)\n",
      " |-- Close: string (nullable = true)\n",
      " |-- Volume: string (nullable = true)\n",
      " |-- Close time: long (nullable = true)\n",
      " |-- Quote asset volume: string (nullable = true)\n",
      " |-- Number of trades: long (nullable = true)\n",
      " |-- Taker buy base asset volume: string (nullable = true)\n",
      " |-- Taker buy quote asset volume: string (nullable = true)\n",
      " |-- Ignore: string (nullable = true)\n",
      " |-- Avg: double (nullable = true)\n",
      "\n",
      "+-------------+--------------+--------------+--------------+--------------+---------------+-------------+-------------------+----------------+---------------------------+----------------------------+------+------------------+\n",
      "|    Open time|          Open|          High|           Low|         Close|         Volume|   Close time| Quote asset volume|Number of trades|Taker buy base asset volume|Taker buy quote asset volume|Ignore|               Avg|\n",
      "+-------------+--------------+--------------+--------------+--------------+---------------+-------------+-------------------+----------------+---------------------------+----------------------------+------+------------------+\n",
      "|1644624000000|42373.73000000|43079.49000000|41688.88000000|42217.87000000| 26556.85681000|1644710399999|1123136004.72372450|          830322|             12814.60322000|          542061655.42919370|     0|         42384.185|\n",
      "|1644710400000|42217.87000000|42760.00000000|41870.00000000|42053.66000000| 17732.08113000|1644796799999| 750533311.65295650|          624898|              8333.13302000|          352741586.05972970|     0|           42315.0|\n",
      "|1644796800000|42053.65000000|42842.40000000|41550.56000000|42535.94000000| 34010.13060000|1644883199999|1436927831.44458620|          867622|             16912.76672000|          714598651.16597500|     0|42196.479999999996|\n",
      "|1644883200000|42535.94000000|44751.40000000|42427.03000000|44544.86000000| 38095.19576000|1644969599999|1672855933.62565900|          990694|             19180.32434000|          842363401.21284530|     0|         43589.215|\n",
      "|1644969600000|44544.85000000|44549.97000000|43307.00000000|43873.56000000| 28471.87270000|1645055999999|1250973502.30184530|          823745|             14106.69537000|          619773473.01658720|     0|         43928.485|\n",
      "|1645056000000|43873.56000000|44164.71000000|40073.21000000|40515.70000000| 47245.99494000|1645142399999|1993400162.94806680|         1067658|             21468.60602000|          906038209.78185840|     0|          42118.96|\n",
      "|1645142400000|40515.71000000|40959.88000000|39450.00000000|39974.44000000| 43845.92241000|1645228799999|1765622365.95275610|         1025882|             20609.06764000|          829953072.41395250|     0|          40204.94|\n",
      "|1645228800000|39974.45000000|40444.32000000|39639.03000000|40079.17000000| 18042.05510000|1645315199999| 721960636.06466920|          586653|              8374.97500000|          335209843.63180300|     0|         40041.675|\n",
      "|1645315200000|40079.17000000|40125.44000000|38000.00000000|38386.89000000| 33439.29011000|1645401599999|1293216601.45187960|          811235|             15338.25392000|          592897166.44915830|     0|          39062.72|\n",
      "|1645401600000|38386.89000000|39494.35000000|36800.00000000|37008.16000000| 62347.68496000|1645487999999|2382027320.86176070|         1352290|             30617.13558000|         1170272316.27587730|     0|         38147.175|\n",
      "|1645488000000|37008.16000000|38429.00000000|36350.00000000|38230.33000000| 53785.94589000|1645574399999|2010628230.75491760|         1212527|             27322.73575000|         1021948126.92530640|     0|           37389.5|\n",
      "|1645574400000|38230.33000000|39249.93000000|37036.79000000|37250.01000000| 43560.73200000|1645660799999|1665486687.23993710|         1030872|             21449.95580000|          820639942.03183170|     0|          38143.36|\n",
      "|1645660800000|37250.02000000|39843.00000000|34322.28000000|38327.21000000|120476.29458000|1645747199999|4335107392.00948810|         2622780|             60103.13140000|         2164376869.72610720|     0|          37082.64|\n",
      "|1645747200000|38328.68000000|39683.53000000|38014.37000000|39219.17000000| 56574.57125000|1645833599999|2197889580.28266900|         1408558|             29904.01589000|         1161436657.82962850|     0|          38848.95|\n",
      "|1645833600000|39219.16000000|40348.45000000|38573.18000000|39116.72000000| 29361.25680000|1645919999999|1152621719.69438010|          924257|             14658.93596000|          575852237.98081680|     0|         39460.815|\n",
      "|1645920000000|39116.73000000|39855.70000000|37000.00000000|37699.07000000| 46229.44719000|1646006399999|1780512702.88640200|         1265753|             21789.25080000|          840141690.32935450|     0|          38427.85|\n",
      "|1646006400000|37699.08000000|44225.84000000|37450.17000000|43160.00000000| 73945.63858000|1646092799999|2975160226.16898520|         1931087|             38543.78078000|         1553136662.00345820|     0|         40838.005|\n",
      "|1646092800000|43160.00000000|44949.00000000|42809.98000000|44421.20000000| 61743.09873000|1646179199999|2701611023.69431990|         1866871|             30937.54085000|         1353520463.00847440|     0|43879.490000000005|\n",
      "|1646179200000|44421.20000000|45400.00000000|43334.09000000|43892.98000000| 57782.65081000|1646265599999|2550792948.28862420|         1653131|             28624.11310000|         1264172354.04562620|     0|         44367.045|\n",
      "|1646265600000|43892.99000000|44101.12000000|41832.28000000|42454.00000000| 50940.61021000|1646351999999|2192152097.92518790|         1289320|             24438.40113000|         1051969942.21123210|     0|           42966.7|\n",
      "+-------------+--------------+--------------+--------------+--------------+---------------+-------------+-------------------+----------------+---------------------------+----------------------------+------+------------------+\n",
      "only showing top 20 rows\n",
      "\n"
     ]
    }
   ],
   "source": [
    "df.printSchema()\n",
    "df.show()\n"
   ]
  },
  {
   "cell_type": "code",
   "execution_count": null,
   "id": "9e74f03f-a3c2-4c31-9ba6-b6e174a19f97",
   "metadata": {},
   "outputs": [],
   "source": []
  }
 ],
 "metadata": {
  "kernelspec": {
   "display_name": "Python 3 (ipykernel)",
   "language": "python",
   "name": "python3"
  },
  "language_info": {
   "codemirror_mode": {
    "name": "ipython",
    "version": 3
   },
   "file_extension": ".py",
   "mimetype": "text/x-python",
   "name": "python",
   "nbconvert_exporter": "python",
   "pygments_lexer": "ipython3",
   "version": "3.10.10"
  }
 },
 "nbformat": 4,
 "nbformat_minor": 5
}
