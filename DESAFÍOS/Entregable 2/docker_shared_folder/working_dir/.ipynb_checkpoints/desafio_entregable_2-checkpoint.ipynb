{
 "cells": [
  {
   "cell_type": "code",
   "execution_count": null,
   "id": "25a0def9-6128-4135-87fd-6a7ce625ae05",
   "metadata": {
    "tags": []
   },
   "outputs": [],
   "source": [
    "# %pip install requests\n",
    "# %pip install pandas\n",
    "# %pip install urllib\n",
    "\n",
    "# %pip install python-dotenv\n",
    "# %pip install python-decouple\n",
    "\n",
    "# %pip install psycopg2-binary\n",
    "# %pip install sqlalchemy\n",
    "\n",
    "# %pip install pyspark"
   ]
  },
  {
   "cell_type": "code",
   "execution_count": 3,
   "id": "fcaf4a46-f41a-45a2-a523-69a3d486fab0",
   "metadata": {
    "tags": []
   },
   "outputs": [],
   "source": [
    "# imports\n",
    "import os\n",
    "import requests\n",
    "import urllib.parse\n",
    "\n",
    "# DB connector and libraries\n",
    "import psycopg2\n",
    "\n",
    "# Pyspark utils\n",
    "from pyspark.sql import SparkSession\n",
    "from pyspark.sql.functions import when, lit, col"
   ]
  },
  {
   "cell_type": "code",
   "execution_count": 4,
   "id": "091ee936-4cfc-43d7-9202-fa34e5acf920",
   "metadata": {
    "tags": []
   },
   "outputs": [
    {
     "name": "stdout",
     "output_type": "stream",
     "text": [
      "/home/coder/working_dir\n"
     ]
    }
   ],
   "source": [
    "print(os.getcwd())"
   ]
  },
  {
   "attachments": {},
   "cell_type": "markdown",
   "id": "19dccf48-d7a9-48aa-9816-6dd843840e56",
   "metadata": {},
   "source": [
    "## Iniciar la sesión de spark"
   ]
  },
  {
   "cell_type": "code",
   "execution_count": 22,
   "id": "8487e19e-d174-4c89-924c-4bb288a53202",
   "metadata": {
    "tags": []
   },
   "outputs": [
    {
     "name": "stdout",
     "output_type": "stream",
     "text": [
      "<pyspark.sql.session.SparkSession object at 0x7f55881afa30>\n"
     ]
    }
   ],
   "source": [
    "class Spark_Session:\n",
    "    \n",
    "    _spark: SparkSession = None\n",
    "    _driver_path: str = \"\"\n",
    "    \n",
    "    def __init__(self):\n",
    "        \n",
    "        # Define environment variables\n",
    "        self._driver_path = os.getcwd() + \"/driver_jdbc/postgresql-42.2.27.jre7.jar\"\n",
    "\n",
    "        os.environ['PYSPARK_SUBMIT_ARGS'] = f'--driver-class-path {self._driver_path} --jars {self._driver_path} pyspark-shell'\n",
    "        os.environ['SPARK_CLASSPATH'] = self._driver_path\n",
    "        \n",
    "        self._start_spark_session()\n",
    "        \n",
    "    def _start_spark_session(self):\n",
    "        # Función que inicia la sessión de spark.\n",
    "        self._spark = SparkSession.builder \\\n",
    "            .master(\"local\") \\\n",
    "            .appName(\"Conexion entre Pyspark y Redshift\") \\\n",
    "            .config(\"spark.jars\", self._driver_path) \\\n",
    "            .config(\"spark.executor.extraClassPath\", self._driver_path) \\\n",
    "            .getOrCreate()\n",
    "    \n",
    "    def return_session(self):\n",
    "        return self._spark\n",
    "            \n",
    "spark = Spark_Session()\n",
    "spark_session = spark.return_session()\n"
   ]
  },
  {
   "cell_type": "code",
   "execution_count": null,
   "id": "78f6bd73-6559-4299-880e-3802c2c8d41f",
   "metadata": {},
   "outputs": [],
   "source": []
  }
 ],
 "metadata": {
  "kernelspec": {
   "display_name": "Python 3 (ipykernel)",
   "language": "python",
   "name": "python3"
  },
  "language_info": {
   "codemirror_mode": {
    "name": "ipython",
    "version": 3
   },
   "file_extension": ".py",
   "mimetype": "text/x-python",
   "name": "python",
   "nbconvert_exporter": "python",
   "pygments_lexer": "ipython3",
   "version": "3.10.10"
  }
 },
 "nbformat": 4,
 "nbformat_minor": 5
}
