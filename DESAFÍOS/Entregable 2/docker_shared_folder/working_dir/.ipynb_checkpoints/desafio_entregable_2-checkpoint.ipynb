{
 "cells": [
  {
   "cell_type": "code",
   "execution_count": null,
   "id": "25a0def9-6128-4135-87fd-6a7ce625ae05",
   "metadata": {
    "tags": []
   },
   "outputs": [],
   "source": [
    "# %pip install requests\n",
    "# %pip install pandas\n",
    "# %pip install urllib\n",
    "\n",
    "# %pip install python-dotenv\n",
    "# %pip install python-decouple\n",
    "\n",
    "# %pip install psycopg2-binary\n",
    "# %pip install sqlalchemy\n",
    "\n",
    "# %pip install pyspark[all]\n",
    "\n",
    "# libary included to solve not module pyspark found\n",
    "%pip install findspark"
   ]
  },
  {
   "cell_type": "code",
   "execution_count": 1,
   "id": "fcaf4a46-f41a-45a2-a523-69a3d486fab0",
   "metadata": {
    "tags": []
   },
   "outputs": [],
   "source": [
    "# imports\n",
    "import os\n",
    "import requests\n",
    "import urllib.parse\n",
    "\n",
    "# DB connector and libraries\n",
    "import psycopg2\n",
    "\n",
    "import findspark\n",
    "findspark.init()\n",
    "# Pyspark utils\n",
    "from pyspark.sql import SparkSession\n",
    "from pyspark.sql.functions import when, lit, col"
   ]
  },
  {
   "cell_type": "code",
   "execution_count": null,
   "id": "091ee936-4cfc-43d7-9202-fa34e5acf920",
   "metadata": {
    "tags": []
   },
   "outputs": [],
   "source": [
    "print(os.getcwd())"
   ]
  },
  {
   "cell_type": "markdown",
   "id": "19dccf48-d7a9-48aa-9816-6dd843840e56",
   "metadata": {},
   "source": [
    "## Iniciar la sesión de spark"
   ]
  },
  {
   "cell_type": "code",
   "execution_count": 14,
   "id": "8487e19e-d174-4c89-924c-4bb288a53202",
   "metadata": {
    "tags": []
   },
   "outputs": [],
   "source": [
    "class Spark_Session:\n",
    "    \n",
    "    _driver_path: str = \"\"\n",
    "    \n",
    "    def __init__(self):\n",
    "        \n",
    "#         Define environment variables\n",
    "        self._driver_path = os.getcwd() + \"/driver_jdbc/postgresql-42.2.27.jre7.jar\"\n",
    "\n",
    "        os.environ['PYSPARK_SUBMIT_ARGS'] = f'--driver-class-path {self._driver_path} --jars {self._driver_path} pyspark-shell'\n",
    "        os.environ['SPARK_CLASSPATH'] = self._driver_path\n",
    "        # Start spark session\n",
    "        self._start_spark_session()\n",
    "        \n",
    "    def _start_spark_session(self):\n",
    "        self._spark: SparkSession = SparkSession.builder \\\n",
    "            .master(\"local\") \\\n",
    "            .appName(\"Conexion entre Pyspark y Redshift\") \\\n",
    "            .config(\"spark.jars\", self._driver_path) \\\n",
    "            .config(\"spark.executor.extraClassPath\", self._driver_path) \\\n",
    "            .getOrCreate()\n",
    "    \n",
    "    def return_session(self):\n",
    "        \"\"\"\n",
    "        Función que retorna la sessión de spark creada al instanciar la clase.\n",
    "        \"\"\"\n",
    "        return self._spark\n",
    "            \n",
    "spark = Spark_Session()\n",
    "spark_session = spark.return_session()\n"
   ]
  },
  {
   "cell_type": "code",
   "execution_count": 7,
   "id": "78f6bd73-6559-4299-880e-3802c2c8d41f",
   "metadata": {
    "tags": []
   },
   "outputs": [],
   "source": [
    "def url_constructor(url: str, **kargs) -> str:\n",
    "\n",
    "    return f\"{url}?{urllib.parse.urlencode(kargs)}\""
   ]
  },
  {
   "cell_type": "markdown",
   "id": "27bb46ef-2de4-49cf-a6c5-911514e27521",
   "metadata": {},
   "source": [
    "## Obtenemos la información desde la url"
   ]
  },
  {
   "cell_type": "code",
   "execution_count": 16,
   "id": "28ed6785-22f4-4a82-895e-472fcde8e4a0",
   "metadata": {
    "tags": []
   },
   "outputs": [],
   "source": [
    "# Vamos a consultar la información historica diaria que nos emite Binance sin limites inicio y fin\n",
    "\n",
    "data = requests.get( \\\n",
    "                url_constructor(\"https://api.binance.com/api/v3/klines\", symbol=\"BTCUSDT\", interval=\"1d\")\n",
    "        ).json()\n",
    "\n",
    "headers = (\"Open High\", \n",
    "           \"Low\", \n",
    "           \"Close\", \n",
    "           \"Volume\", \n",
    "           \"Close time\", \n",
    "           \"Quote asset volume\", \n",
    "           \"Number of trades\",\n",
    "           \"Taker buy base asset volume\",\n",
    "           \"Taker buy quote asset volume\", \n",
    "           \"Ignore\")\n",
    "\n",
    "df = spark_session.createDataFrame(data, [x for x in headers])"
   ]
  },
  {
   "cell_type": "code",
   "execution_count": 18,
   "id": "ef30062e-8083-4eb3-8b6b-f04f9a08502d",
   "metadata": {
    "tags": []
   },
   "outputs": [
    {
     "name": "stdout",
     "output_type": "stream",
     "text": [
      "root\n",
      " |-- Open High: long (nullable = true)\n",
      " |-- Low: string (nullable = true)\n",
      " |-- Close: string (nullable = true)\n",
      " |-- Volume: string (nullable = true)\n",
      " |-- Close time: string (nullable = true)\n",
      " |-- Quote asset volume: string (nullable = true)\n",
      " |-- Number of trades: long (nullable = true)\n",
      " |-- Taker buy base asset volume: string (nullable = true)\n",
      " |-- Taker buy quote asset volume: long (nullable = true)\n",
      " |-- Ignore: string (nullable = true)\n",
      " |-- _11: string (nullable = true)\n",
      " |-- _12: string (nullable = true)\n",
      "\n"
     ]
    }
   ],
   "source": [
    "df.printSchema()\n"
   ]
  },
  {
   "cell_type": "code",
   "execution_count": null,
   "id": "9e74f03f-a3c2-4c31-9ba6-b6e174a19f97",
   "metadata": {},
   "outputs": [],
   "source": []
  }
 ],
 "metadata": {
  "kernelspec": {
   "display_name": "Python 3 (ipykernel)",
   "language": "python",
   "name": "python3"
  },
  "language_info": {
   "codemirror_mode": {
    "name": "ipython",
    "version": 3
   },
   "file_extension": ".py",
   "mimetype": "text/x-python",
   "name": "python",
   "nbconvert_exporter": "python",
   "pygments_lexer": "ipython3",
   "version": "3.10.10"
  }
 },
 "nbformat": 4,
 "nbformat_minor": 5
}
