{
 "cells": [
  {
   "cell_type": "code",
   "execution_count": null,
   "metadata": {},
   "outputs": [],
   "source": [
    "# %pip install requests\n",
    "# %pip install pandas\n",
    "# %pip install sqlalchemy\n",
    "# %pip install python-dotenv"
   ]
  },
  {
   "cell_type": "code",
   "execution_count": 23,
   "metadata": {},
   "outputs": [
    {
     "data": {
      "text/plain": [
       "True"
      ]
     },
     "execution_count": 23,
     "metadata": {},
     "output_type": "execute_result"
    }
   ],
   "source": [
    "# Imports de librerías requeridas\n",
    "\n",
    "import requests\n",
    "import json\n",
    "import pandas as pd\n",
    "import os\n",
    "from dotenv import load_dotenv\n",
    "\n",
    "load_dotenv()\n"
   ]
  },
  {
   "cell_type": "code",
   "execution_count": 22,
   "metadata": {},
   "outputs": [
    {
     "name": "stdout",
     "output_type": "stream",
     "text": [
      "         Price       Date\n",
      "0  9360.247968 2020-06-21\n",
      "1  9298.360829 2020-06-22\n",
      "2  9678.683209 2020-06-23\n",
      "3  9624.684292 2020-06-24\n",
      "4  9288.061774 2020-06-25\n",
      "             Price                Date\n",
      "1091  26327.325669 2023-06-17 00:00:00\n",
      "1092  26501.044442 2023-06-18 00:00:00\n",
      "1093  26333.092530 2023-06-19 00:00:00\n",
      "1094  26779.387462 2023-06-20 00:00:00\n",
      "1095  26924.094459 2023-06-20 03:19:53\n"
     ]
    }
   ],
   "source": [
    "# Url donde obtendremos la información del histórico de precios de bitcoin vs usd 3 años hacia atrás.\n",
    "url = 'https://api.coingecko.com/api/v3/coins/bitcoin/market_chart?vs_currency=usd&days=1095'\n",
    "\n",
    "# Pretición get a la url\n",
    "response = requests.get(url)\n",
    "\n",
    "# Formatear la información a JSON.\n",
    "data = response.json()\n",
    "\n",
    "# Extraer los precios de cierre y las fechas del JSON\n",
    "prices_info = data['prices']\n",
    "\n",
    "prices = []\n",
    "timestamps = []\n",
    "\n",
    "# Convertir los timestamps de milisegundos a segundos y almacenar los precios en el array de precios\n",
    "for i in prices_info:\n",
    "  prices.append(i[1])\n",
    "  timestamps.append(i[0]/1000)  \n",
    "\n",
    "# print(prices, timestamps)\n",
    "\n",
    "# Crear el DataFrame utilizando pandas\n",
    "df = pd.DataFrame(prices, columns=['Price'])\n",
    "df['Date'] = pd.to_datetime(timestamps, unit='s')\n",
    "\n",
    "# # Listar los primeros registros del DF para comprobar que se formateo correctamente.\n",
    "print(df.head())\n",
    "print(df.tail())"
   ]
  },
  {
   "cell_type": "markdown",
   "metadata": {},
   "source": [
    "# Insertar información a la db"
   ]
  },
  {
   "cell_type": "code",
   "execution_count": 30,
   "metadata": {},
   "outputs": [
    {
     "name": "stdout",
     "output_type": "stream",
     "text": [
      "\n"
     ]
    }
   ],
   "source": [
    "from sqlalchemy import create_engine\n",
    "\n",
    "host = os.environ.get(\"HOST\")\n",
    "port = os.environ.get(\"PORT\")\n",
    "database = os.environ.get(\"DATABASE\")\n",
    "user = os.environ.get(\"USER\")\n",
    "password = os.environ.get(\"PASSWORD\")\n",
    "\n",
    "\n",
    "\n",
    "table_name = \"bicoin_prices\"\n",
    "\n",
    "# Crear la conexión a la db\n",
    "engine = create_engine(f'postgresql://{user}:{password}@{host}:{port}/{database}')\n",
    "\n",
    "Insertar datos desde el dataframe en la db\n",
    "df.to_sql(\n",
    "    table_name, \n",
    "    engine, \n",
    "    if_exists='append', \n",
    "    index=False\n",
    ")"
   ]
  },
  {
   "cell_type": "code",
   "execution_count": null,
   "metadata": {},
   "outputs": [],
   "source": []
  },
  {
   "cell_type": "code",
   "execution_count": null,
   "metadata": {},
   "outputs": [],
   "source": []
  },
  {
   "cell_type": "code",
   "execution_count": null,
   "metadata": {},
   "outputs": [],
   "source": []
  }
 ],
 "metadata": {
  "kernelspec": {
   "display_name": "Python 3 (ipykernel)",
   "language": "python",
   "name": "python3"
  },
  "language_info": {
   "codemirror_mode": {
    "name": "ipython",
    "version": 3
   },
   "file_extension": ".py",
   "mimetype": "text/x-python",
   "name": "python",
   "nbconvert_exporter": "python",
   "pygments_lexer": "ipython3",
   "version": "3.10.6"
  }
 },
 "nbformat": 4,
 "nbformat_minor": 2
}
