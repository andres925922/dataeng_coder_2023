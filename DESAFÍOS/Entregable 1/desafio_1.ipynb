{
 "cells": [
  {
   "cell_type": "code",
   "execution_count": null,
   "metadata": {},
   "outputs": [],
   "source": [
    "%pip install requests\n",
    "%pip install pandas"
   ]
  },
  {
   "cell_type": "code",
   "execution_count": null,
   "metadata": {},
   "outputs": [],
   "source": [
    "# Imports de librerías requeridas\n",
    "\n",
    "import requests\n",
    "import json\n",
    "import pandas as pd\n",
    "import os\n",
    "\n"
   ]
  },
  {
   "cell_type": "code",
   "execution_count": null,
   "metadata": {},
   "outputs": [],
   "source": [
    "# Url donde obtendremos la información del histórico de precios de bitcoin vs usd 3 años hacia atrás.\n",
    "url = 'https://api.coingecko.com/api/v3/coins/bitcoin/market_chart?vs_currency=usd&days=1095'\n",
    "\n",
    "# Pretición get a la url\n",
    "response = requests.get(url)\n",
    "\n",
    "# Formatear la información a JSON.\n",
    "data = response.json()\n",
    "\n",
    "# Extraer los precios de cierre y las fechas del JSON\n",
    "prices_info = data['prices']\n",
    "\n",
    "prices = []\n",
    "timestamps = []\n",
    "\n",
    "# Convertir los timestamps de milisegundos a segundos y almacenar los precios en el array de precios\n",
    "for i in prices_info:\n",
    "  prices.append(i[1])\n",
    "  timestamps.append(i[0]/1000)  \n",
    "\n",
    "# print(prices, timestamps)\n",
    "\n",
    "# Crear el DataFrame utilizando pandas\n",
    "df = pd.DataFrame(prices, columns=['Price'])\n",
    "df['Date'] = pd.to_datetime(timestamps, unit='s')\n",
    "\n",
    "# # Listar los primeros registros del DF para comprobar que se formateo correctamente.\n",
    "print(df.head())"
   ]
  },
  {
   "attachments": {},
   "cell_type": "markdown",
   "metadata": {},
   "source": [
    "# Insertar información a la db"
   ]
  },
  {
   "cell_type": "code",
   "execution_count": null,
   "metadata": {},
   "outputs": [],
   "source": [
    "from sqlalchemy import create_engine\n",
    "\n",
    "host = os.environ.get(\"host\")\n",
    "port = os.environ.get(\"port\")\n",
    "database = os.environ.get(\"database\")\n",
    "user = os.environ.get(\"user\")\n",
    "password = os.environ.get(\"password\")\n",
    "\n",
    "table_name = \"bicoin_prices\"\n",
    "\n",
    "# Crear la conexión a la db\n",
    "engine = create_engine(f'postgresql://{user}:{password}@{host}:{port}/{database}')\n",
    "\n",
    "# Insertar datos desde el dataframe en la db\n",
    "df.to_sql(\n",
    "    table_name, \n",
    "    engine, \n",
    "    if_exists='append', \n",
    "    index=False\n",
    ")"
   ]
  }
 ],
 "metadata": {
  "language_info": {
   "name": "python"
  },
  "orig_nbformat": 4
 },
 "nbformat": 4,
 "nbformat_minor": 2
}
